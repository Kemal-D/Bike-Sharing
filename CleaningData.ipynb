{
 "cells": [
  {
   "cell_type": "code",
   "execution_count": 1,
   "metadata": {},
   "outputs": [],
   "source": [
    "# import libraries\n",
    "import pandas as pd\n",
    "import numpy as np\n",
    "import seaborn as sns\n",
    "import matplotlib.pyplot\n",
    "import os\n",
    "import glob"
   ]
  },
  {
   "cell_type": "code",
   "execution_count": 2,
   "metadata": {},
   "outputs": [
    {
     "name": "stdout",
     "output_type": "stream",
     "text": [
      "Current working directory C:\\Users\..."
     ]
    }
   ],
   "source": [
    "# Check current working directory.\n",
    "retval = os.getcwd()\n",
    "print(\"Current working directory %s\" % retval)"
   ]
  },
  {
   "cell_type": "code",
   "execution_count": 15,
   "metadata": {},
   "outputs": [],
   "source": [
    "# Change working directory to the data folder where all the csv files are stored\n",
    "os.chdir(\"C:/Users/kemal/Desktop/bss real/Data2020\")"
   ]
  },
  {
   "cell_type": "code",
   "execution_count": 16,
   "metadata": {},
   "outputs": [
    {
     "name": "stdout",
     "output_type": "stream",
     "text": [
      "Current working directory C:\\Users\\kemal\\Desktop\\bss real\\Data2020\n"
     ]
    }
   ],
   "source": [
    "# Check current working directory has been changed\n",
    "import os\n",
    "retval = os.getcwd()\n",
    "print(\"Current working directory %s\" % retval)"
   ]
  },
  {
   "cell_type": "code",
   "execution_count": 17,
   "metadata": {},
   "outputs": [],
   "source": [
    "# Match the pattern (‘csv’) and save the list of file names in the ‘all_filenames’ variable\n",
    "extension = 'csv'\n",
    "all_filenames = [i for i in glob.glob('*.{}'.format(extension))]"
   ]
  },
  {
   "cell_type": "code",
   "execution_count": 18,
   "metadata": {},
   "outputs": [
    {
     "name": "stdout",
     "output_type": "stream",
     "text": [
      "['202001-capitalbikeshare-tripdata.csv', '202002-capitalbikeshare-tripdata.csv', '202003-capitalbikeshare-tripdata.csv', '202004-capitalbikeshare-tripdata.csv', '202005-capitalbikeshare-tripdata.csv', '202006-capitalbikeshare-tripdata.csv', '202007-capitalbikeshare-tripdata.csv', '202008-capitalbikeshare-tripdata.csv', '202009-capitalbikeshare-tripdata.csv', '202010-capitalbikeshare-tripdata.csv', '202011-capitalbikeshare-tripdata.csv', '202012-capitalbikeshare-tripdata.csv']\n"
     ]
    }
   ],
   "source": [
    "print(all_filenames)"
   ]
  },
  {
   "cell_type": "code",
   "execution_count": 19,
   "metadata": {},
   "outputs": [],
   "source": [
    "# Create raw_data dataframe that will take all the concatenated csv files. Open the first csv file and transform it to a\n",
    "# dataframe\n",
    "raw_data = pd.read_csv(\"202001-capitalbikeshare-tripdata.csv\")"
   ]
  },
  {
   "cell_type": "code",
   "execution_count": 20,
   "metadata": {},
   "outputs": [
    {
     "name": "stderr",
     "output_type": "stream",
     "text": [
      "C:\\Users\\kemal\\Anaconda3\\lib\\site-packages\\ipykernel_launcher.py:6: FutureWarning: Sorting because non-concatenation axis is not aligned. A future version\n",
      "of pandas will change to not sort by default.\n",
      "\n",
      "To accept the future behavior, pass 'sort=False'.\n",
      "\n",
      "To retain the current behavior and silence the warning, pass 'sort=True'.\n",
      "\n",
      "  \n"
     ]
    }
   ],
   "source": [
    "# Loop on all files (apart from the first one), and for each loop remove the first row (because it contains the column names we\n",
    "# already have in raw_data) and concatenate the dataframe to raw_data.\n",
    "for f in all_filenames[1:]:\n",
    "    df = pd.read_csv(f)\n",
    "    df = df.iloc[1:]\n",
    "    raw_data = pd.concat([raw_data,df])"
   ]
  },
  {
   "cell_type": "code",
   "execution_count": 21,
   "metadata": {},
   "outputs": [
    {
     "data": {
      "text/html": [
       "<div>\n",
       "<style scoped>\n",
       "    .dataframe tbody tr th:only-of-type {\n",
       "        vertical-align: middle;\n",
       "    }\n",
       "\n",
       "    .dataframe tbody tr th {\n",
       "        vertical-align: top;\n",
       "    }\n",
       "\n",
       "    .dataframe thead th {\n",
       "        text-align: right;\n",
       "    }\n",
       "</style>\n",
       "<table border=\"1\" class=\"dataframe\">\n",
       "  <thead>\n",
       "    <tr style=\"text-align: right;\">\n",
       "      <th></th>\n",
       "      <th>Duration</th>\n",
       "      <th>End date</th>\n",
       "      <th>End station</th>\n",
       "      <th>End station number</th>\n",
       "      <th>End station number.1</th>\n",
       "      <th>Member type</th>\n",
       "      <th>Start date</th>\n",
       "      <th>Start station</th>\n",
       "      <th>Start station number</th>\n",
       "    </tr>\n",
       "  </thead>\n",
       "  <tbody>\n",
       "    <tr>\n",
       "      <td>0</td>\n",
       "      <td>506.0</td>\n",
       "      <td>01/01/2020 00:09</td>\n",
       "      <td>Rosedale Rec Center</td>\n",
       "      <td>31658.0</td>\n",
       "      <td>NaN</td>\n",
       "      <td>Member</td>\n",
       "      <td>01/01/2020 00:00</td>\n",
       "      <td>Columbus Circle / Union Station</td>\n",
       "      <td>31623.0</td>\n",
       "    </tr>\n",
       "    <tr>\n",
       "      <td>1</td>\n",
       "      <td>1050.0</td>\n",
       "      <td>01/01/2020 00:18</td>\n",
       "      <td>Potomac &amp; Pennsylvania Ave SE</td>\n",
       "      <td>31606.0</td>\n",
       "      <td>NaN</td>\n",
       "      <td>Member</td>\n",
       "      <td>01/01/2020 00:01</td>\n",
       "      <td>Eastern Market Metro / Pennsylvania Ave &amp; 7th ...</td>\n",
       "      <td>31613.0</td>\n",
       "    </tr>\n",
       "    <tr>\n",
       "      <td>2</td>\n",
       "      <td>1687.0</td>\n",
       "      <td>01/01/2020 00:30</td>\n",
       "      <td>Constitution Ave &amp; 2nd St NW/DOL</td>\n",
       "      <td>31271.0</td>\n",
       "      <td>NaN</td>\n",
       "      <td>Member</td>\n",
       "      <td>01/01/2020 00:02</td>\n",
       "      <td>L'Enfant Plaza / 7th &amp; C St SW</td>\n",
       "      <td>31218.0</td>\n",
       "    </tr>\n",
       "    <tr>\n",
       "      <td>3</td>\n",
       "      <td>182.0</td>\n",
       "      <td>01/01/2020 00:05</td>\n",
       "      <td>Gallaudet / 8th St &amp; Florida Ave NE</td>\n",
       "      <td>31508.0</td>\n",
       "      <td>NaN</td>\n",
       "      <td>Member</td>\n",
       "      <td>01/01/2020 00:02</td>\n",
       "      <td>3rd &amp; M St NE</td>\n",
       "      <td>31627.0</td>\n",
       "    </tr>\n",
       "    <tr>\n",
       "      <td>4</td>\n",
       "      <td>1002.0</td>\n",
       "      <td>01/01/2020 00:22</td>\n",
       "      <td>10th &amp; G St NW</td>\n",
       "      <td>31274.0</td>\n",
       "      <td>NaN</td>\n",
       "      <td>Member</td>\n",
       "      <td>01/01/2020 00:06</td>\n",
       "      <td>Jefferson Dr &amp; 14th St SW</td>\n",
       "      <td>31247.0</td>\n",
       "    </tr>\n",
       "  </tbody>\n",
       "</table>\n",
       "</div>"
      ],
      "text/plain": [
       "   Duration          End date                          End station  \\\n",
       "0     506.0  01/01/2020 00:09                  Rosedale Rec Center   \n",
       "1    1050.0  01/01/2020 00:18        Potomac & Pennsylvania Ave SE   \n",
       "2    1687.0  01/01/2020 00:30     Constitution Ave & 2nd St NW/DOL   \n",
       "3     182.0  01/01/2020 00:05  Gallaudet / 8th St & Florida Ave NE   \n",
       "4    1002.0  01/01/2020 00:22                       10th & G St NW   \n",
       "\n",
       "   End station number End station number.1 Member type        Start date  \\\n",
       "0             31658.0                  NaN      Member  01/01/2020 00:00   \n",
       "1             31606.0                  NaN      Member  01/01/2020 00:01   \n",
       "2             31271.0                  NaN      Member  01/01/2020 00:02   \n",
       "3             31508.0                  NaN      Member  01/01/2020 00:02   \n",
       "4             31274.0                  NaN      Member  01/01/2020 00:06   \n",
       "\n",
       "                                       Start station  Start station number  \n",
       "0                    Columbus Circle / Union Station               31623.0  \n",
       "1  Eastern Market Metro / Pennsylvania Ave & 7th ...               31613.0  \n",
       "2                     L'Enfant Plaza / 7th & C St SW               31218.0  \n",
       "3                                      3rd & M St NE               31627.0  \n",
       "4                          Jefferson Dr & 14th St SW               31247.0  "
      ]
     },
     "execution_count": 21,
     "metadata": {},
     "output_type": "execute_result"
    }
   ],
   "source": [
    "# Inspect raw_data\n",
    "raw_data.head()"
   ]
  },
  {
   "cell_type": "code",
   "execution_count": 22,
   "metadata": {},
   "outputs": [
    {
     "data": {
      "text/plain": [
       "Duration                float64\n",
       "End date                 object\n",
       "End station              object\n",
       "End station number      float64\n",
       "End station number.1     object\n",
       "Member type              object\n",
       "Start date               object\n",
       "Start station            object\n",
       "Start station number    float64\n",
       "dtype: object"
      ]
     },
     "execution_count": 22,
     "metadata": {},
     "output_type": "execute_result"
    }
   ],
   "source": [
    "# Check types of columns\n",
    "raw_data.dtypes"
   ]
  },
  {
   "cell_type": "code",
   "execution_count": 23,
   "metadata": {},
   "outputs": [
    {
     "data": {
      "text/plain": [
       "Duration                      0\n",
       "End date                      0\n",
       "End station              307005\n",
       "End station number        97514\n",
       "End station number.1    2007412\n",
       "Member type                   0\n",
       "Start date                    0\n",
       "Start station             84638\n",
       "Start station number      84638\n",
       "dtype: int64"
      ]
     },
     "execution_count": 23,
     "metadata": {},
     "output_type": "execute_result"
    }
   ],
   "source": [
    "# Check if there are null values\n",
    "raw_data.isnull().sum()"
   ]
  },
  {
   "cell_type": "code",
   "execution_count": 24,
   "metadata": {},
   "outputs": [],
   "source": [
    "# Change the columns names to eliminate the spaces in the names.\n",
    "trips = raw_data.rename(columns = {\"Duration\":\"duration\", \"Start date\":\"start_date\", \"End date\":\"end_date\", \"Start station number\":\"start_station_number\",\"Start station\":\"start_station\", \"End station number\":\"end_station_number\", \"End station\":\"end_station\", \"Member type\":\"member_type\"})"
   ]
  },
  {
   "cell_type": "code",
   "execution_count": 25,
   "metadata": {},
   "outputs": [
    {
     "data": {
      "text/html": [
       "<div>\n",
       "<style scoped>\n",
       "    .dataframe tbody tr th:only-of-type {\n",
       "        vertical-align: middle;\n",
       "    }\n",
       "\n",
       "    .dataframe tbody tr th {\n",
       "        vertical-align: top;\n",
       "    }\n",
       "\n",
       "    .dataframe thead th {\n",
       "        text-align: right;\n",
       "    }\n",
       "</style>\n",
       "<table border=\"1\" class=\"dataframe\">\n",
       "  <thead>\n",
       "    <tr style=\"text-align: right;\">\n",
       "      <th></th>\n",
       "      <th>duration</th>\n",
       "      <th>end_date</th>\n",
       "      <th>end_station</th>\n",
       "      <th>end_station_number</th>\n",
       "      <th>End station number.1</th>\n",
       "      <th>member_type</th>\n",
       "      <th>start_date</th>\n",
       "      <th>start_station</th>\n",
       "      <th>start_station_number</th>\n",
       "    </tr>\n",
       "  </thead>\n",
       "  <tbody>\n",
       "    <tr>\n",
       "      <td>0</td>\n",
       "      <td>506.0</td>\n",
       "      <td>01/01/2020 00:09</td>\n",
       "      <td>Rosedale Rec Center</td>\n",
       "      <td>31658.0</td>\n",
       "      <td>NaN</td>\n",
       "      <td>Member</td>\n",
       "      <td>01/01/2020 00:00</td>\n",
       "      <td>Columbus Circle / Union Station</td>\n",
       "      <td>31623.0</td>\n",
       "    </tr>\n",
       "    <tr>\n",
       "      <td>1</td>\n",
       "      <td>1050.0</td>\n",
       "      <td>01/01/2020 00:18</td>\n",
       "      <td>Potomac &amp; Pennsylvania Ave SE</td>\n",
       "      <td>31606.0</td>\n",
       "      <td>NaN</td>\n",
       "      <td>Member</td>\n",
       "      <td>01/01/2020 00:01</td>\n",
       "      <td>Eastern Market Metro / Pennsylvania Ave &amp; 7th ...</td>\n",
       "      <td>31613.0</td>\n",
       "    </tr>\n",
       "    <tr>\n",
       "      <td>2</td>\n",
       "      <td>1687.0</td>\n",
       "      <td>01/01/2020 00:30</td>\n",
       "      <td>Constitution Ave &amp; 2nd St NW/DOL</td>\n",
       "      <td>31271.0</td>\n",
       "      <td>NaN</td>\n",
       "      <td>Member</td>\n",
       "      <td>01/01/2020 00:02</td>\n",
       "      <td>L'Enfant Plaza / 7th &amp; C St SW</td>\n",
       "      <td>31218.0</td>\n",
       "    </tr>\n",
       "    <tr>\n",
       "      <td>3</td>\n",
       "      <td>182.0</td>\n",
       "      <td>01/01/2020 00:05</td>\n",
       "      <td>Gallaudet / 8th St &amp; Florida Ave NE</td>\n",
       "      <td>31508.0</td>\n",
       "      <td>NaN</td>\n",
       "      <td>Member</td>\n",
       "      <td>01/01/2020 00:02</td>\n",
       "      <td>3rd &amp; M St NE</td>\n",
       "      <td>31627.0</td>\n",
       "    </tr>\n",
       "    <tr>\n",
       "      <td>4</td>\n",
       "      <td>1002.0</td>\n",
       "      <td>01/01/2020 00:22</td>\n",
       "      <td>10th &amp; G St NW</td>\n",
       "      <td>31274.0</td>\n",
       "      <td>NaN</td>\n",
       "      <td>Member</td>\n",
       "      <td>01/01/2020 00:06</td>\n",
       "      <td>Jefferson Dr &amp; 14th St SW</td>\n",
       "      <td>31247.0</td>\n",
       "    </tr>\n",
       "  </tbody>\n",
       "</table>\n",
       "</div>"
      ],
      "text/plain": [
       "   duration          end_date                          end_station  \\\n",
       "0     506.0  01/01/2020 00:09                  Rosedale Rec Center   \n",
       "1    1050.0  01/01/2020 00:18        Potomac & Pennsylvania Ave SE   \n",
       "2    1687.0  01/01/2020 00:30     Constitution Ave & 2nd St NW/DOL   \n",
       "3     182.0  01/01/2020 00:05  Gallaudet / 8th St & Florida Ave NE   \n",
       "4    1002.0  01/01/2020 00:22                       10th & G St NW   \n",
       "\n",
       "   end_station_number End station number.1 member_type        start_date  \\\n",
       "0             31658.0                  NaN      Member  01/01/2020 00:00   \n",
       "1             31606.0                  NaN      Member  01/01/2020 00:01   \n",
       "2             31271.0                  NaN      Member  01/01/2020 00:02   \n",
       "3             31508.0                  NaN      Member  01/01/2020 00:02   \n",
       "4             31274.0                  NaN      Member  01/01/2020 00:06   \n",
       "\n",
       "                                       start_station  start_station_number  \n",
       "0                    Columbus Circle / Union Station               31623.0  \n",
       "1  Eastern Market Metro / Pennsylvania Ave & 7th ...               31613.0  \n",
       "2                     L'Enfant Plaza / 7th & C St SW               31218.0  \n",
       "3                                      3rd & M St NE               31627.0  \n",
       "4                          Jefferson Dr & 14th St SW               31247.0  "
      ]
     },
     "execution_count": 25,
     "metadata": {},
     "output_type": "execute_result"
    }
   ],
   "source": [
    "# Check trips head\n",
    "trips.head()"
   ]
  },
  {
   "cell_type": "code",
   "execution_count": 26,
   "metadata": {},
   "outputs": [],
   "source": [
    "# Save the raw_data dataframe in a csv file called raw_data.csv\n",
    "trips.to_csv(\"trips2020.csv\")"
   ]
  },
  {
   "cell_type": "code",
   "execution_count": null,
   "metadata": {},
   "outputs": [],
   "source": []
  }
 ],
 "metadata": {
  "kernelspec": {
   "display_name": "Python 3",
   "language": "python",
   "name": "python3"
  },
  "language_info": {
   "codemirror_mode": {
    "name": "ipython",
    "version": 3
   },
   "file_extension": ".py",
   "mimetype": "text/x-python",
   "name": "python",
   "nbconvert_exporter": "python",
   "pygments_lexer": "ipython3",
   "version": "3.7.4"
  }
 },
 "nbformat": 4,
 "nbformat_minor": 4
}
